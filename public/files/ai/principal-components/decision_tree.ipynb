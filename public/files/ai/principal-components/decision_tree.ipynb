{
 "cells": [
  {
   "cell_type": "code",
   "execution_count": 1,
   "metadata": {},
   "outputs": [],
   "source": [
    "import math\n",
    "import numpy as np"
   ]
  },
  {
   "cell_type": "code",
   "execution_count": 67,
   "metadata": {},
   "outputs": [],
   "source": [
    "class Node:\n",
    "   def __init__(self, data):\n",
    "      self.children = {}\n",
    "      self.data = data\n",
    "\n",
    "   def add_child(self, edge, node):\n",
    "      self.children[edge] = node\n",
    "\n",
    "   def print(self):\n",
    "      print(self.data)\n",
    "\n",
    "   def print_helper(self, edge, level):\n",
    "      if len(self.children) == 0:\n",
    "         print(f'[{level}]: {edge} {self.data} ')\n",
    "\n",
    "      else:\n",
    "         print(f'[{level}]: {edge} {self.data} ')\n",
    "         for i in self.children:\n",
    "            self.children[i].print_helper(i, level+1)\n",
    "\n",
    "   def print_tree(self):\n",
    "      self.print_helper('', 0)\n"
   ]
  },
  {
   "cell_type": "code",
   "execution_count": 7,
   "metadata": {},
   "outputs": [],
   "source": [
    "train_X = np.array([['-', '+', '+', '-'],\n",
    "                    ['+', '+', '+', '+'],\n",
    "                    ['-', '+', '-', '+'],\n",
    "                    ['-', '-', '+', '-'],\n",
    "                    ['+', '+', '-', '+']])\n",
    "\n",
    "test_X = np.array([['+', '-', '-'],\n",
    "                   ['-', '-', '-'],\n",
    "                   ['+', '-', '+']])"
   ]
  },
  {
   "cell_type": "markdown",
   "metadata": {},
   "source": [
    "DTree(examples, features) returns a tree\n",
    "  If all examples are in one category, return a leaf node with that category label.\n",
    "  Else if the set of features is empty, return a leaf node with the category label that\n",
    "      is the most common in examples.\n",
    "  Else pick a feature F and create a node R for it\n",
    "      For each possible value vi of F:\n",
    "         Add an out-going edge E to node R labeled with the value vi.\n",
    "         Let examplesi be the subset of examples that have value vi for F\n",
    "\t      If examplesi is empty\n",
    "            then attach a leaf node to edge E labeled with the category that\n",
    "               is the most common in examples.\n",
    "         else call DTree(examplesi , features – {F}) and attach the resulting\n",
    "            tree as the subtree under edge E.\n",
    "      Return the subtree rooted at R.       \n"
   ]
  },
  {
   "cell_type": "code",
   "execution_count": 54,
   "metadata": {},
   "outputs": [],
   "source": [
    "def one_label(examples):\n",
    "   label = None\n",
    "   for example_i in examples:\n",
    "      if label == None:\n",
    "         label = example_i[examples.shape[1] - 1]\n",
    "      else:\n",
    "         if example_i[examples.shape[1] - 1] != label:\n",
    "            return False, None\n",
    "   return True, label\n",
    "\n",
    "def count_positive_examples(examples):\n",
    "   positives = 0\n",
    "   for example_i in examples:\n",
    "      if example_i[examples.shape[1] - 1] == '+':\n",
    "         positives += 1\n",
    "   return positives, examples.shape[0] - positives\n",
    "\n",
    "def calc_entropy_S(examples):\n",
    "   p_1, p_0 = count_positive_examples(examples)\n",
    "   entropy_1 = -p_1 * math.log(p_1, 2) if p_1 > 0 else 0\n",
    "   entropy_0 = -p_0 * math.log(p_0, 2) if p_0 > 0 else 0\n",
    "   return entropy_1 + entropy_0\n",
    "\n",
    "def decision_tree(examples, features):\n",
    "   all_one_label, temp_label = one_label(examples)\n",
    "   if all_one_label:\n",
    "      return Node(temp_label)\n",
    "\n",
    "   elif len(features) == 0:\n",
    "      pos, neg = count_positive_examples(examples)\n",
    "      return Node('+' if pos >= neg else '-')\n",
    "\n",
    "   else:\n",
    "      entropy_S = calc_entropy_S(examples)\n",
    "      picked_F, max_gain = 0, -math.inf\n",
    "      for F in features:\n",
    "         s_F = np.column_stack([examples[:,F-1], examples[:,examples.shape[1] - 1]])\n",
    "         pos_vals = s_F[np.where(s_F[:,0] == '+')]\n",
    "         neg_vals = s_F[np.where(s_F[:,0] == '-')]\n",
    "         F_gain = entropy_S - ((pos_vals.shape[0] / examples.shape[0]) * calc_entropy_S(pos_vals) + (neg_vals.shape[0] / examples.shape[0]) * calc_entropy_S(neg_vals))\n",
    "         if F_gain > max_gain:\n",
    "            picked_F = F\n",
    "            max_gain = F_gain\n",
    "      \n",
    "      root = Node(picked_F)\n",
    "\n",
    "      for val_i in ['+', '-']:\n",
    "         examples_i = examples[np.where(examples[:,picked_F-1] == val_i)]\n",
    "         if examples_i.shape[0] == 0:\n",
    "            pos, neg = count_positive_examples(examples)\n",
    "            root.add_child('+' if pos >= neg else '-', picked_F)\n",
    "         else:\n",
    "            root.add_child(val_i, decision_tree(examples_i, features[features != picked_F]))\n",
    "\n",
    "      return root\n"
   ]
  },
  {
   "cell_type": "code",
   "execution_count": 68,
   "metadata": {},
   "outputs": [
    {
     "name": "stdout",
     "output_type": "stream",
     "text": [
      "[0]:  2 \n",
      "[1]: + 1 \n",
      "[2]: + + \n",
      "[2]: - 3 \n",
      "[3]: + - \n",
      "[3]: - + \n",
      "[1]: - - \n"
     ]
    }
   ],
   "source": [
    "dt = decision_tree(train_X, np.array(range(1, train_X.shape[1])))\n",
    "dt.print_tree()"
   ]
  },
  {
   "cell_type": "markdown",
   "metadata": {},
   "source": [
    "The final hypothesis looks like (click on cell to view tree):\n",
    "            2\n",
    "         [+]  [-]\n",
    "      1           -\n",
    "   [+]  [-]\n",
    "+          3\n",
    "       [+]   [-]\n",
    "      -          +"
   ]
  },
  {
   "cell_type": "markdown",
   "metadata": {},
   "source": [
    "For the three test examples:\n",
    "   - (+, -, -) = -\n",
    "   - (-, -, -) = -\n",
    "   - (+, -, +) = -"
   ]
  }
 ],
 "metadata": {
  "interpreter": {
   "hash": "88738ecac3f5fe7d1162ad09de316cfd978b10d6a9bd8990569be6f1dc8a3b45"
  },
  "kernelspec": {
   "display_name": "Python 3.8.8 64-bit ('base': conda)",
   "language": "python",
   "name": "python3"
  },
  "language_info": {
   "codemirror_mode": {
    "name": "ipython",
    "version": 3
   },
   "file_extension": ".py",
   "mimetype": "text/x-python",
   "name": "python",
   "nbconvert_exporter": "python",
   "pygments_lexer": "ipython3",
   "version": "3.8.8"
  },
  "orig_nbformat": 4
 },
 "nbformat": 4,
 "nbformat_minor": 2
}
